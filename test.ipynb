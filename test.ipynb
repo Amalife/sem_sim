{
 "cells": [
  {
   "cell_type": "code",
   "execution_count": 13,
   "metadata": {},
   "outputs": [],
   "source": [
    "from gigachat import GigaChat\n",
    "from getpass import getpass\n",
    "import numpy as np\n",
    "from nltk.util import ngrams"
   ]
  },
  {
   "cell_type": "code",
   "execution_count": 2,
   "metadata": {},
   "outputs": [],
   "source": [
    "creds = getpass()"
   ]
  },
  {
   "cell_type": "code",
   "execution_count": 5,
   "metadata": {},
   "outputs": [],
   "source": [
    "model = GigaChat(credentials=creds, scope=\"GIGACHAT_API_CORP\", verify_ssl_certs=False)"
   ]
  },
  {
   "cell_type": "code",
   "execution_count": 65,
   "metadata": {},
   "outputs": [],
   "source": [
    "test_sent = \"его оригинальный портрет выставлен на продажу\".split()\n",
    "\n",
    "test_phrase = \"подлинная картина\""
   ]
  },
  {
   "cell_type": "code",
   "execution_count": 58,
   "metadata": {},
   "outputs": [],
   "source": [
    "bigram = ngrams(test_sent, 2)\n",
    "trigram = ngrams(test_sent, 3)\n",
    "test_sent_bigram = [\" \".join(words) for words in bigram]\n",
    "test_sent_trigram = [\" \".join(words) for words in trigram]"
   ]
  },
  {
   "cell_type": "code",
   "execution_count": 59,
   "metadata": {},
   "outputs": [
    {
     "data": {
      "text/plain": [
       "[np.float64(0.846681095569723),\n",
       " np.float64(0.8387825615295545),\n",
       " np.float64(0.8617398385012418),\n",
       " np.float64(0.824595308464789),\n",
       " np.float64(0.9381885005310974)]"
      ]
     },
     "execution_count": 59,
     "metadata": {},
     "output_type": "execute_result"
    }
   ],
   "source": [
    "sent_embeds = model.embeddings(test_sent).data\n",
    "phrase_embed = model.embeddings(test_phrase).data[0].embedding\n",
    "sims = []\n",
    "for word in sent_embeds:\n",
    "    sims.append(np.dot(word.embedding / np.linalg.norm(word.embedding), phrase_embed / np.linalg.norm(phrase_embed)))\n",
    "sims"
   ]
  },
  {
   "cell_type": "code",
   "execution_count": 60,
   "metadata": {},
   "outputs": [
    {
     "data": {
      "text/plain": [
       "[np.float64(0.8415364096300624),\n",
       " np.float64(0.8212341917342143),\n",
       " np.float64(0.7934345392815161),\n",
       " np.float64(0.8539167719926526)]"
      ]
     },
     "execution_count": 60,
     "metadata": {},
     "output_type": "execute_result"
    }
   ],
   "source": [
    "sent_embeds = model.embeddings(test_sent_bigram).data\n",
    "phrase_embed = model.embeddings(test_phrase).data[0].embedding\n",
    "sims = []\n",
    "for word in sent_embeds:\n",
    "    sims.append(np.dot(word.embedding / np.linalg.norm(word.embedding), phrase_embed / np.linalg.norm(phrase_embed)))\n",
    "sims"
   ]
  },
  {
   "cell_type": "code",
   "execution_count": 61,
   "metadata": {},
   "outputs": [
    {
     "data": {
      "text/plain": [
       "[np.float64(0.8092990195986802),\n",
       " np.float64(0.7627808059596929),\n",
       " np.float64(0.7990036833298929)]"
      ]
     },
     "execution_count": 61,
     "metadata": {},
     "output_type": "execute_result"
    }
   ],
   "source": [
    "sent_embeds = model.embeddings(test_sent_trigram).data\n",
    "phrase_embed = model.embeddings(test_phrase).data[0].embedding\n",
    "sims = []\n",
    "for word in sent_embeds:\n",
    "    sims.append(np.dot(word.embedding / np.linalg.norm(word.embedding), phrase_embed / np.linalg.norm(phrase_embed)))\n",
    "sims"
   ]
  },
  {
   "cell_type": "code",
   "execution_count": 66,
   "metadata": {},
   "outputs": [
    {
     "data": {
      "text/plain": [
       "[np.float64(0.8464416161209178)]"
      ]
     },
     "execution_count": 66,
     "metadata": {},
     "output_type": "execute_result"
    }
   ],
   "source": [
    "sent_embeds = model.embeddings(\" \".join(test_sent)).data\n",
    "phrase_embed = model.embeddings(test_phrase).data[0].embedding\n",
    "sims = []\n",
    "for word in sent_embeds:\n",
    "    sims.append(np.dot(word.embedding / np.linalg.norm(word.embedding), phrase_embed / np.linalg.norm(phrase_embed)))\n",
    "sims"
   ]
  },
  {
   "cell_type": "markdown",
   "metadata": {},
   "source": [
    "# Tests"
   ]
  },
  {
   "cell_type": "code",
   "execution_count": 2,
   "metadata": {},
   "outputs": [],
   "source": [
    "import pandas as pd"
   ]
  },
  {
   "cell_type": "code",
   "execution_count": 32,
   "metadata": {},
   "outputs": [
    {
     "data": {
      "text/html": [
       "<div>\n",
       "<style scoped>\n",
       "    .dataframe tbody tr th:only-of-type {\n",
       "        vertical-align: middle;\n",
       "    }\n",
       "\n",
       "    .dataframe tbody tr th {\n",
       "        vertical-align: top;\n",
       "    }\n",
       "\n",
       "    .dataframe thead th {\n",
       "        text-align: right;\n",
       "    }\n",
       "</style>\n",
       "<table border=\"1\" class=\"dataframe\">\n",
       "  <thead>\n",
       "    <tr style=\"text-align: right;\">\n",
       "      <th></th>\n",
       "      <th>id</th>\n",
       "      <th>sentence</th>\n",
       "      <th>phrase</th>\n",
       "      <th>target</th>\n",
       "    </tr>\n",
       "  </thead>\n",
       "  <tbody>\n",
       "    <tr>\n",
       "      <th>0</th>\n",
       "      <td>1</td>\n",
       "      <td>доченька твоя совсем большая стала</td>\n",
       "      <td>дочь</td>\n",
       "      <td>доченька</td>\n",
       "    </tr>\n",
       "    <tr>\n",
       "      <th>1</th>\n",
       "      <td>2</td>\n",
       "      <td>вся дорога забита деревьями и цветами</td>\n",
       "      <td>дерево</td>\n",
       "      <td>деревьями</td>\n",
       "    </tr>\n",
       "    <tr>\n",
       "      <th>2</th>\n",
       "      <td>3</td>\n",
       "      <td>в следующее воскресенье я собираюсь в питер</td>\n",
       "      <td>санкт петербург</td>\n",
       "      <td>питер</td>\n",
       "    </tr>\n",
       "    <tr>\n",
       "      <th>3</th>\n",
       "      <td>4</td>\n",
       "      <td>у меня сломалась стиралка прикинь</td>\n",
       "      <td>стиральная машина</td>\n",
       "      <td>стиралка</td>\n",
       "    </tr>\n",
       "    <tr>\n",
       "      <th>4</th>\n",
       "      <td>5</td>\n",
       "      <td>садись в машину и поехали уже</td>\n",
       "      <td>автомобиль</td>\n",
       "      <td>машину</td>\n",
       "    </tr>\n",
       "  </tbody>\n",
       "</table>\n",
       "</div>"
      ],
      "text/plain": [
       "   id                                     sentence             phrase  \\\n",
       "0   1           доченька твоя совсем большая стала               дочь   \n",
       "1   2        вся дорога забита деревьями и цветами             дерево   \n",
       "2   3  в следующее воскресенье я собираюсь в питер    санкт петербург   \n",
       "3   4            у меня сломалась стиралка прикинь  стиральная машина   \n",
       "4   5                садись в машину и поехали уже         автомобиль   \n",
       "\n",
       "      target  \n",
       "0   доченька  \n",
       "1  деревьями  \n",
       "2      питер  \n",
       "3   стиралка  \n",
       "4     машину  "
      ]
     },
     "execution_count": 32,
     "metadata": {},
     "output_type": "execute_result"
    }
   ],
   "source": [
    "example_df = pd.read_csv(\"data/example.csv\", sep=\";\")\n",
    "example_df.head()"
   ]
  },
  {
   "cell_type": "code",
   "execution_count": 38,
   "metadata": {},
   "outputs": [
    {
     "data": {
      "text/html": [
       "<div>\n",
       "<style scoped>\n",
       "    .dataframe tbody tr th:only-of-type {\n",
       "        vertical-align: middle;\n",
       "    }\n",
       "\n",
       "    .dataframe tbody tr th {\n",
       "        vertical-align: top;\n",
       "    }\n",
       "\n",
       "    .dataframe thead th {\n",
       "        text-align: right;\n",
       "    }\n",
       "</style>\n",
       "<table border=\"1\" class=\"dataframe\">\n",
       "  <thead>\n",
       "    <tr style=\"text-align: right;\">\n",
       "      <th></th>\n",
       "      <th>id</th>\n",
       "      <th>sentence</th>\n",
       "      <th>phrase</th>\n",
       "      <th>target</th>\n",
       "    </tr>\n",
       "  </thead>\n",
       "  <tbody>\n",
       "    <tr>\n",
       "      <th>0</th>\n",
       "      <td>0</td>\n",
       "      <td>доченька твоя совсем большая стала</td>\n",
       "      <td>дочь</td>\n",
       "      <td>доченька</td>\n",
       "    </tr>\n",
       "    <tr>\n",
       "      <th>1</th>\n",
       "      <td>1</td>\n",
       "      <td>вся дорога забита деревьями и цветами</td>\n",
       "      <td>дерево</td>\n",
       "      <td>деревьями</td>\n",
       "    </tr>\n",
       "    <tr>\n",
       "      <th>2</th>\n",
       "      <td>2</td>\n",
       "      <td>в следующее воскресенье я собираюсь в питер</td>\n",
       "      <td>санкт петербург</td>\n",
       "      <td>питер</td>\n",
       "    </tr>\n",
       "    <tr>\n",
       "      <th>3</th>\n",
       "      <td>3</td>\n",
       "      <td>у меня сломалась стиралка прикинь</td>\n",
       "      <td>стиральная машина</td>\n",
       "      <td>стиралка</td>\n",
       "    </tr>\n",
       "    <tr>\n",
       "      <th>4</th>\n",
       "      <td>4</td>\n",
       "      <td>ты возьми корзину прежде чем набрать продукты</td>\n",
       "      <td>звонить</td>\n",
       "      <td>NaN</td>\n",
       "    </tr>\n",
       "    <tr>\n",
       "      <th>...</th>\n",
       "      <td>...</td>\n",
       "      <td>...</td>\n",
       "      <td>...</td>\n",
       "      <td>...</td>\n",
       "    </tr>\n",
       "    <tr>\n",
       "      <th>995</th>\n",
       "      <td>995</td>\n",
       "      <td>на столе стоял кувшин с водичкой для питья</td>\n",
       "      <td>вода</td>\n",
       "      <td>водичкой</td>\n",
       "    </tr>\n",
       "    <tr>\n",
       "      <th>996</th>\n",
       "      <td>996</td>\n",
       "      <td>малыш радостно смеялся новой погремушке</td>\n",
       "      <td>младенец</td>\n",
       "      <td>малыш</td>\n",
       "    </tr>\n",
       "    <tr>\n",
       "      <th>997</th>\n",
       "      <td>997</td>\n",
       "      <td>этот регион славится своими винами и кухней</td>\n",
       "      <td>область</td>\n",
       "      <td>регион</td>\n",
       "    </tr>\n",
       "    <tr>\n",
       "      <th>998</th>\n",
       "      <td>998</td>\n",
       "      <td>он починил свой старый мобильник в мастерской</td>\n",
       "      <td>сотовый телефон</td>\n",
       "      <td>мобильник</td>\n",
       "    </tr>\n",
       "    <tr>\n",
       "      <th>999</th>\n",
       "      <td>999</td>\n",
       "      <td>она испекла вкусный тортик на праздник для гостей</td>\n",
       "      <td>торт</td>\n",
       "      <td>тортик</td>\n",
       "    </tr>\n",
       "  </tbody>\n",
       "</table>\n",
       "<p>1000 rows × 4 columns</p>\n",
       "</div>"
      ],
      "text/plain": [
       "      id                                           sentence  \\\n",
       "0      0                 доченька твоя совсем большая стала   \n",
       "1      1              вся дорога забита деревьями и цветами   \n",
       "2      2        в следующее воскресенье я собираюсь в питер   \n",
       "3      3                  у меня сломалась стиралка прикинь   \n",
       "4      4      ты возьми корзину прежде чем набрать продукты   \n",
       "..   ...                                                ...   \n",
       "995  995         на столе стоял кувшин с водичкой для питья   \n",
       "996  996            малыш радостно смеялся новой погремушке   \n",
       "997  997        этот регион славится своими винами и кухней   \n",
       "998  998      он починил свой старый мобильник в мастерской   \n",
       "999  999  она испекла вкусный тортик на праздник для гостей   \n",
       "\n",
       "                phrase     target  \n",
       "0                 дочь   доченька  \n",
       "1               дерево  деревьями  \n",
       "2      санкт петербург      питер  \n",
       "3    стиральная машина   стиралка  \n",
       "4              звонить        NaN  \n",
       "..                 ...        ...  \n",
       "995               вода   водичкой  \n",
       "996           младенец      малыш  \n",
       "997            область     регион  \n",
       "998    сотовый телефон  мобильник  \n",
       "999               торт     тортик  \n",
       "\n",
       "[1000 rows x 4 columns]"
      ]
     },
     "execution_count": 38,
     "metadata": {},
     "output_type": "execute_result"
    }
   ],
   "source": [
    "test_df = pd.read_csv(\"data/synth_set.csv\", sep=\";\")\n",
    "test_df"
   ]
  },
  {
   "cell_type": "code",
   "execution_count": 33,
   "metadata": {},
   "outputs": [],
   "source": [
    "from sem_sim.use_cases.sent_processor import SentProcessor\n",
    "from tqdm import tqdm\n",
    "import numpy as np\n",
    "import math"
   ]
  },
  {
   "cell_type": "code",
   "execution_count": 5,
   "metadata": {},
   "outputs": [],
   "source": [
    "processor = SentProcessor()"
   ]
  },
  {
   "cell_type": "code",
   "execution_count": 30,
   "metadata": {},
   "outputs": [],
   "source": [
    "sents = example_df[\"sentence\"].to_list()\n",
    "phrases = example_df[\"phrase\"].to_list()\n",
    "targets = example_df[\"target\"].to_list()"
   ]
  },
  {
   "cell_type": "code",
   "execution_count": 8,
   "metadata": {},
   "outputs": [
    {
     "name": "stderr",
     "output_type": "stream",
     "text": [
      "Processing : 100%|██████████| 18/18 [00:58<00:00,  3.26s/it]\n"
     ]
    }
   ],
   "source": [
    "preds = []\n",
    "for sent, phrase in tqdm(zip(sents, phrases), total=len(sents), desc=\"Processing \"):\n",
    "    preds.append(processor.find_word(sent, phrase))"
   ]
  },
  {
   "cell_type": "code",
   "execution_count": 42,
   "metadata": {},
   "outputs": [
    {
     "data": {
      "text/plain": [
       "0.8888888888888888"
      ]
     },
     "execution_count": 42,
     "metadata": {},
     "output_type": "execute_result"
    }
   ],
   "source": [
    "acc = 0\n",
    "for pred, target in zip(preds, targets):\n",
    "    if not pred and not isinstance(target, str):\n",
    "        acc += 1\n",
    "    elif pred and pred[1] == [target]:\n",
    "        acc += 1\n",
    "acc / len(targets)"
   ]
  },
  {
   "cell_type": "code",
   "execution_count": 44,
   "metadata": {},
   "outputs": [],
   "source": [
    "sents = test_df[\"sentence\"].to_list()\n",
    "phrases = test_df[\"phrase\"].to_list()\n",
    "targets = test_df[\"target\"].to_list()"
   ]
  },
  {
   "cell_type": "code",
   "execution_count": 56,
   "metadata": {},
   "outputs": [
    {
     "name": "stderr",
     "output_type": "stream",
     "text": [
      "Processing : 100%|██████████| 421/421 [22:27<00:00,  3.20s/it]\n"
     ]
    }
   ],
   "source": [
    "preds = []\n",
    "for sent, phrase in tqdm(zip(sents, phrases), total=len(sents), desc=\"Processing \"):\n",
    "    preds.append(processor.find_word(sent, phrase))"
   ]
  },
  {
   "cell_type": "code",
   "execution_count": 80,
   "metadata": {},
   "outputs": [],
   "source": [
    "non_null_targets = [targ for targ in targets if isinstance(targ, str)]"
   ]
  },
  {
   "cell_type": "code",
   "execution_count": 81,
   "metadata": {},
   "outputs": [
    {
     "data": {
      "text/plain": [
       "856"
      ]
     },
     "execution_count": 81,
     "metadata": {},
     "output_type": "execute_result"
    }
   ],
   "source": [
    "len(non_null_targets)"
   ]
  },
  {
   "cell_type": "code",
   "execution_count": 82,
   "metadata": {},
   "outputs": [
    {
     "data": {
      "text/plain": [
       "(0.746, 0.7289719626168224)"
      ]
     },
     "execution_count": 82,
     "metadata": {},
     "output_type": "execute_result"
    }
   ],
   "source": [
    "acc = 0\n",
    "acc_words = 0\n",
    "for pred, target in zip(preds, targets):\n",
    "    if not pred and not isinstance(target, str):\n",
    "        acc += 1\n",
    "    elif pred and isinstance(target, str) and target.lower() in pred[1][0].lower().strip(\".\"):\n",
    "        acc_words += 1\n",
    "        acc += 1\n",
    "acc / len(targets), acc_words / len(non_null_targets)"
   ]
  },
  {
   "cell_type": "code",
   "execution_count": 79,
   "metadata": {},
   "outputs": [
    {
     "data": {
      "text/plain": [
       "0.879"
      ]
     },
     "execution_count": 79,
     "metadata": {},
     "output_type": "execute_result"
    }
   ],
   "source": [
    "acc_sent = 0\n",
    "for pred, target in zip(preds, targets):\n",
    "    if not pred and not isinstance(target, str):\n",
    "        acc_sent += 1\n",
    "    elif pred and isinstance(target, str):\n",
    "        acc_sent += 1\n",
    "\n",
    "acc_sent / len(targets)"
   ]
  }
 ],
 "metadata": {
  "kernelspec": {
   "display_name": ".note_venv",
   "language": "python",
   "name": "python3"
  },
  "language_info": {
   "codemirror_mode": {
    "name": "ipython",
    "version": 3
   },
   "file_extension": ".py",
   "mimetype": "text/x-python",
   "name": "python",
   "nbconvert_exporter": "python",
   "pygments_lexer": "ipython3",
   "version": "3.11.9"
  },
  "orig_nbformat": 4
 },
 "nbformat": 4,
 "nbformat_minor": 2
}
